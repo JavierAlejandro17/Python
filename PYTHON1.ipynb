{
  "nbformat": 4,
  "nbformat_minor": 0,
  "metadata": {
    "colab": {
      "provenance": [],
      "authorship_tag": "ABX9TyML059y1DJIG8sRzM3x1Gi3",
      "include_colab_link": true
    },
    "kernelspec": {
      "name": "python3",
      "display_name": "Python 3"
    },
    "language_info": {
      "name": "python"
    }
  },
  "cells": [
    {
      "cell_type": "markdown",
      "metadata": {
        "id": "view-in-github",
        "colab_type": "text"
      },
      "source": [
        "<a href=\"https://colab.research.google.com/github/JavierAlejandro17/Python/blob/UPIITA/PYTHON1.ipynb\" target=\"_parent\"><img src=\"https://colab.research.google.com/assets/colab-badge.svg\" alt=\"Open In Colab\"/></a>"
      ]
    },
    {
      "cell_type": "code",
      "execution_count": null,
      "metadata": {
        "id": "got3xlir4o2I"
      },
      "outputs": [],
      "source": []
    },
    {
      "cell_type": "markdown",
      "source": [],
      "metadata": {
        "id": "KRg1FMwm4tdm"
      }
    },
    {
      "cell_type": "code",
      "source": [
        "print(\"Hola mundo\") #Esta función recibe una cadena\n"
      ],
      "metadata": {
        "id": "Emz8VusB4t73",
        "colab": {
          "base_uri": "https://localhost:8080/"
        },
        "outputId": "a419d3df-e46c-401c-c8d8-ce253241179e"
      },
      "execution_count": null,
      "outputs": [
        {
          "output_type": "stream",
          "name": "stdout",
          "text": [
            "Hola mundo\n"
          ]
        }
      ]
    },
    {
      "cell_type": "code",
      "source": [
        "cadena = \"Hola mundo\"\n",
        "cadena"
      ],
      "metadata": {
        "colab": {
          "base_uri": "https://localhost:8080/",
          "height": 36
        },
        "id": "S3QOyI6H5vzD",
        "outputId": "02490623-8e96-42c9-bd4b-35e0848989a0"
      },
      "execution_count": null,
      "outputs": [
        {
          "output_type": "execute_result",
          "data": {
            "text/plain": [
              "'Hola mundo'"
            ],
            "application/vnd.google.colaboratory.intrinsic+json": {
              "type": "string"
            }
          },
          "metadata": {},
          "execution_count": 2
        }
      ]
    },
    {
      "cell_type": "code",
      "source": [
        "#Para declarar una variable en python solo se escribe el nombre de la variable y se le otorga un valor.\n",
        "#No es necesario definir el tipo de dato\n",
        "#Las variables no pueden empezar con un numero o con un caractér especial\n",
        "\n",
        "a = 0\n",
        "b = '1'\n",
        "c = [2]\n",
        "\n"
      ],
      "metadata": {
        "id": "o1MbJzq-6RMz"
      },
      "execution_count": null,
      "outputs": []
    },
    {
      "cell_type": "code",
      "source": [
        "# Podemos asignar el resultado de una operación a una variable\n",
        "\n",
        "x = 8\n",
        "y = 9\n",
        "z = x + y\n",
        "w = x - y\n",
        "print(\"z:\", z, \"\\nw:\", w)"
      ],
      "metadata": {
        "colab": {
          "base_uri": "https://localhost:8080/"
        },
        "id": "39aL38cm6rO0",
        "outputId": "6733556b-e311-4e10-ffd8-176430677f35"
      },
      "execution_count": null,
      "outputs": [
        {
          "output_type": "stream",
          "name": "stdout",
          "text": [
            "z: 17 \n",
            "w: -1\n"
          ]
        }
      ]
    },
    {
      "cell_type": "code",
      "source": [
        "#Hay otras opciones para imprimir de esta manera\n",
        "\n",
        "print(\"Z: {uno} \\nW: {dos}\".format(uno=z,dos=w))\n",
        "\n",
        "print(\"Z: {} \\nW: {}\".format(z,w))\n"
      ],
      "metadata": {
        "colab": {
          "base_uri": "https://localhost:8080/"
        },
        "id": "HnEMFKFg7v0g",
        "outputId": "6709fcab-b9c3-481e-8f28-98d9c587185e"
      },
      "execution_count": null,
      "outputs": [
        {
          "output_type": "stream",
          "name": "stdout",
          "text": [
            "Z: 17 \n",
            "W: -1\n",
            "Z: 17 \n",
            "W: -1\n"
          ]
        }
      ]
    },
    {
      "cell_type": "markdown",
      "source": [
        "CADENAS DE CARACTERES\n",
        "\n",
        "Para hacer una cadena de caracteres puedes usar comillas\n",
        "\" o comillas '"
      ],
      "metadata": {
        "id": "szIRvdoO9gk8"
      }
    },
    {
      "cell_type": "code",
      "source": [],
      "metadata": {
        "id": "3B_nZ8O99qTJ"
      },
      "execution_count": null,
      "outputs": []
    }
  ]
}